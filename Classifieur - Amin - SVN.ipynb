{
 "cells": [
  {
   "cell_type": "markdown",
   "metadata": {},
   "source": [
    "## télécharger les données"
   ]
  },
  {
   "cell_type": "code",
   "execution_count": 1,
   "metadata": {
    "collapsed": false
   },
   "outputs": [
    {
     "name": "stdout",
     "output_type": "stream",
     "text": [
      "Loading data...\n",
      "Reading data file\n",
      "... Done\n"
     ]
    }
   ],
   "source": [
    "import numpy as np\n",
    "import timeit\n",
    "from tools.data import get_datasets, split_into_subsequences\n",
    "\n",
    "# Load the dataset\n",
    "print(\"Loading data...\")\n",
    "train, test = get_datasets()\n",
    "print '... Done'"
   ]
  },
  {
   "cell_type": "markdown",
   "metadata": {},
   "source": [
    "## classication binaire"
   ]
  },
  {
   "cell_type": "code",
   "execution_count": 2,
   "metadata": {
    "collapsed": false
   },
   "outputs": [],
   "source": [
    "train = train[:5000]\n",
    "test = test[:5000]\n",
    "train[train[:,-1] >=0, -1] = 1\n",
    "train[train[:,-1] ==-1, -1] = 0\n",
    "test[test[:,-1] >=0, -1] = 1\n",
    "test[test[:,-1] ==-1, -1] = 0"
   ]
  },
  {
   "cell_type": "code",
   "execution_count": 3,
   "metadata": {
    "collapsed": false
   },
   "outputs": [
    {
     "name": "stdout",
     "output_type": "stream",
     "text": [
      "('training in 53.0 seconds', 2)\n"
     ]
    }
   ],
   "source": [
    "from sklearn import svm\n",
    "start_time = timeit.default_timer()\n",
    "clf = svm.SVC()\n",
    "clf.fit(train[:,:-1], train[:,-1])\n",
    "end_time = timeit.default_timer()\n",
    "print(\"training in %s seconds\" % round(end_time - start_time,2))"
   ]
  },
  {
   "cell_type": "code",
   "execution_count": 4,
   "metadata": {
    "collapsed": false
   },
   "outputs": [
    {
     "name": "stdout",
     "output_type": "stream",
     "text": [
      "3692.0  Correct in total :  5000.0 \t73.84 %\n",
      "in 53.59 seconds\n"
     ]
    }
   ],
   "source": [
    "count = 0.0;\n",
    "crct = 0.0\n",
    "start_time = timeit.default_timer()\n",
    "for i in range(len(test)):\n",
    "    count += 1\n",
    "    if clf.predict(test[i,:-1])== test[i,-1]:\n",
    "        crct += 1\n",
    "end_time = timeit.default_timer()\n",
    "print crct,' Correct in total : ',count,'\\t',crct/count * 100,'%'\n",
    "print(\"in %s seconds\" % round(end_time - start_time,2))"
   ]
  },
  {
   "cell_type": "markdown",
   "metadata": {},
   "source": [
    "## classification multiclass"
   ]
  },
  {
   "cell_type": "code",
   "execution_count": 2,
   "metadata": {
    "collapsed": true
   },
   "outputs": [],
   "source": [
    "train = train[:5000]\n",
    "test = test[:5000]"
   ]
  },
  {
   "cell_type": "code",
   "execution_count": 3,
   "metadata": {
    "collapsed": false
   },
   "outputs": [
    {
     "name": "stdout",
     "output_type": "stream",
     "text": [
      "training in 113.81 seconds\n"
     ]
    }
   ],
   "source": [
    "from sklearn import svm\n",
    "start_time = timeit.default_timer()\n",
    "clf = svm.SVC()\n",
    "clf.fit(train[:,:-1], train[:,-1])\n",
    "end_time = timeit.default_timer()\n",
    "print(\"training in %s seconds\" % round(end_time - start_time,2))"
   ]
  },
  {
   "cell_type": "code",
   "execution_count": 4,
   "metadata": {
    "collapsed": false
   },
   "outputs": [
    {
     "name": "stdout",
     "output_type": "stream",
     "text": [
      "1308.0  Correct in total :  5000.0 \t26.16 %\n",
      "in 51.95 seconds\n"
     ]
    }
   ],
   "source": [
    "count = 0.0;\n",
    "crct = 0.0\n",
    "start_time = timeit.default_timer()\n",
    "for i in range(len(test)):\n",
    "    count += 1\n",
    "    if clf.predict(test[i,:-1])== test[i,-1]:\n",
    "        crct += 1\n",
    "end_time = timeit.default_timer()\n",
    "print crct,' Correct in total : ',count,'\\t',crct/count * 100,'%'\n",
    "print(\"in %s seconds\" % round(end_time - start_time,2))"
   ]
  }
 ],
 "metadata": {
  "kernelspec": {
   "display_name": "Python 2",
   "language": "python",
   "name": "python2"
  },
  "language_info": {
   "codemirror_mode": {
    "name": "ipython",
    "version": 2
   },
   "file_extension": ".py",
   "mimetype": "text/x-python",
   "name": "python",
   "nbconvert_exporter": "python",
   "pygments_lexer": "ipython2",
   "version": "2.7.10"
  }
 },
 "nbformat": 4,
 "nbformat_minor": 0
}
