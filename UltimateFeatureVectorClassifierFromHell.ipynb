{
 "cells": [
  {
   "cell_type": "code",
   "execution_count": 4,
   "metadata": {
    "collapsed": false
   },
   "outputs": [],
   "source": [
    "from tools.data import get_datasets\n",
    "#train, test = get_datasets()\n",
    "mtrain, mtest = remove_class(train, -1),remove_class(test, -1)\n",
    "btrain, btest = replace_classes(train, [i for i in range(10)],1),replace_classes(test, [i for i in range(10)],1)\n",
    "\n",
    "#train et test -> Ensemble de données contenant toutes les classes d'exemples (incluant -1)\n",
    "#mtrain et mtest -> Ensemble de données avec juste des signaux valides (aucune classe -1)\n",
    "#btrain et btest -> Ensemble donn/es avec classe -1 (pas un signal) et 1 (est un signal)\n",
    "\n"
   ]
  },
  {
   "cell_type": "code",
   "execution_count": 3,
   "metadata": {
    "collapsed": true
   },
   "outputs": [],
   "source": [
    "%matplotlib inline\n",
    "import numpy as np\n",
    "import matplotlib.pyplot as plt\n",
    "from scipy import signal\n",
    "from sklearn.neighbors import KNeighborsClassifier\n",
    "from sklearn import naive_bayes\n",
    "import features\n"
   ]
  },
  {
   "cell_type": "code",
   "execution_count": null,
   "metadata": {
    "collapsed": true
   },
   "outputs": [],
   "source": [
    "# Pris du classifieur de Marc"
   ]
  },
  {
   "cell_type": "code",
   "execution_count": 5,
   "metadata": {
    "collapsed": true
   },
   "outputs": [],
   "source": [
    "# Fonction permettant d'extraire la puissance des signaux issus du filtre du Butterworth\n",
    "\n",
    "def butterworth_filter(dataset):\n",
    "    Wn = [('lowpass', 0.035) , ('bandpass', (0.035,0.07)) , ('bandpass', (0.07, 0.113)), ('bandpass', (0.113, 0.26)), ('highpass', 0.26)]\n",
    "    butter = np.zeros((dataset.shape[0], 20))\n",
    "    for i in range(dataset.shape[0]) :\n",
    "        length = dataset[i,0]\n",
    "        current = []\n",
    "        for filter_type, value in Wn :\n",
    "            b, a = signal.butter(5, value, filter_type)\n",
    "            current.append((np.sum(signal.filtfilt(b, a, dataset[i, 1:1+length]))**2)/length)\n",
    "            current.append((np.sum(signal.filtfilt(b, a, dataset[i, 1+512:1+512+length]))**2)/length)\n",
    "            current.append((np.sum(signal.filtfilt(b, a, dataset[i, 1+512*2:1+512*2+length]))**2)/length)\n",
    "            current.append((np.sum(signal.filtfilt(b, a, dataset[i, 1+512*3:1+512*3+length]))**2)/length)\n",
    "        butter[i] = np.array(current)\n",
    "    return butter"
   ]
  },
  {
   "cell_type": "markdown",
   "metadata": {},
   "source": [
    "#Pris à partir du classifieur PCA - KNN de Thomas. J'ai pas eu trop le temps de regarder.\n"
   ]
  },
  {
   "cell_type": "code",
   "execution_count": 22,
   "metadata": {
    "collapsed": false
   },
   "outputs": [
    {
     "name": "stderr",
     "output_type": "stream",
     "text": [
      "/home/ntak/.local/lib/python2.7/site-packages/ipykernel/__main__.py:12: DeprecationWarning: using a non-integer number instead of an integer will result in an error in the future\n"
     ]
    }
   ],
   "source": [
    "from sklearn.decomposition import PCA\n",
    "# scikit-learn.org/stable/modules/generated/sklearn.decomposition.PCA.html#sklearn.decomposition.PCA\n",
    "        \n",
    "test_f = np.zeros(test.shape)\n",
    "\n",
    "for i in range(len(test_f)):\n",
    "    length = test[i,0]\n",
    "    test_f[i,0] = test[i,0]\n",
    "    test_f[i,-1] = test[i,-1]\n",
    "    \n",
    "    for j in range(4):\n",
    "        test_f[i, 1+512*j:1+512*j+length] = np.abs(np.fft.fft(test[i, 1+512*j:1+512*j+length]))\n",
    "\n",
    "def getPCA(n,data):\n",
    "    train_f = np.zeros(data.shape)\n",
    "\n",
    "    for i in range(len(train_f)):\n",
    "        length = data[i,0]\n",
    "        train_f[i,0] = data[i,0]\n",
    "        train_f[i,-1] = data[i,-1]\n",
    "\n",
    "        for j in range(4):\n",
    "            train_f[i, 1+512*j:1+512*j+length] = np.abs(np.fft.fft(data[i, 1+512*j:1+512*j+length]))\n",
    "\n",
    "    \n",
    "    pca = PCA(n)\n",
    "    return pca.fit_transform(train_f[:,1:200])\n"
   ]
  },
  {
   "cell_type": "code",
   "execution_count": null,
   "metadata": {
    "collapsed": true
   },
   "outputs": [],
   "source": []
  },
  {
   "cell_type": "code",
   "execution_count": 7,
   "metadata": {
    "collapsed": true
   },
   "outputs": [],
   "source": [
    "def most_resonnant_by_signal(data,nbcapteurs=4,buffer_size=512, numcep=30):\n",
    "    \"\"\"\n",
    "    Returns a matrix of shape ( nb of examples x nb of signals)\n",
    "    where each element at index i,j is the index of the most resonnant ceptrum by signal.\n",
    "    \"\"\"\n",
    "\n",
    "    feat = np.zeros((data.shape[0], nbcapteurs))\n",
    "    \n",
    "    for x, d in enumerate(data): \n",
    "        length = int(d[0])\n",
    "        \n",
    "        for i in range(nbcapteurs):\n",
    "\n",
    "            signal = d[1+i*buffer_size:1+i*buffer_size + length]# I do not get a fix number of frame if I do not use the zero-padding.\n",
    "            feat[x,i] = np.argmax(features.mfcc(signal, buffer_size, numcep=numcep))\n",
    "    \n",
    "    return feat"
   ]
  },
  {
   "cell_type": "code",
   "execution_count": 8,
   "metadata": {
    "collapsed": true
   },
   "outputs": [],
   "source": [
    "def results(data, nbcapteurs=4, buffer_size=512, numcep=13, numframes=94):\n",
    "    \"\"\" data : longueur | 512 mesures pour capteur 1 | 512 mesures pour capteur 2 | 512 mesures pour capteur 3 | 512 mesures pour capteur 4 | Chiffre vu | \"\"\"\n",
    "    return data[:,-1]\n",
    "\n",
    "def remove_class(data, target, copy=True):\n",
    "    \"\"\"\n",
    "    Remove all examples which class == target.\n",
    "    assumes that the class is at the last index of the data\n",
    "    \"\"\"\n",
    "    if copy :\n",
    "        return np.array(data[data[:,-1] != -1],copy=True)\n",
    "    else:\n",
    "        return data[data[:,-1] != -1]\n",
    "\n",
    "def replace_classes(data, to_replace, replace_by, copy = True):\n",
    "    \"\"\"\n",
    "    For all examples which class in to_replace. Chance class for replace_by\n",
    "    assumes that the class is at the last index of the data\n",
    "    \"\"\"\n",
    "    if copy:\n",
    "        data = np.array(data,copy=True)\n",
    "    \n",
    "    for x in data:\n",
    "        if x[-1] in to_replace:\n",
    "            x[-1] = replace_by\n",
    "    \n",
    "    return data"
   ]
  },
  {
   "cell_type": "markdown",
   "metadata": {},
   "source": [
    "\n",
    "#La section de test\n",
    "\n",
    "La section suivante sert à tester un vecteur de caractéristiques sur plusieurs modèles d'apprentissage ainsi que de trouver leurs hyper-paramètres optimaux (si applicable)."
   ]
  },
  {
   "cell_type": "code",
   "execution_count": null,
   "metadata": {
    "collapsed": false
   },
   "outputs": [],
   "source": [
    "#initialising feature vector\n",
    "mfcc = most_resonnant_by_signal(mtrain)\n",
    "butter = butterworth_filter(mtrain)\n",
    "pca = getPCA(5,mtrain)\n",
    "train_result = mtrain[:,-1]\n",
    "\n",
    "\n"
   ]
  },
  {
   "cell_type": "code",
   "execution_count": 32,
   "metadata": {
    "collapsed": false
   },
   "outputs": [
    {
     "name": "stderr",
     "output_type": "stream",
     "text": [
      "/home/ntak/.local/lib/python2.7/site-packages/ipykernel/__main__.py:11: DeprecationWarning: using a non-integer number instead of an integer will result in an error in the future\n",
      "/home/ntak/.local/lib/python2.7/site-packages/ipykernel/__main__.py:12: DeprecationWarning: using a non-integer number instead of an integer will result in an error in the future\n",
      "/home/ntak/.local/lib/python2.7/site-packages/ipykernel/__main__.py:13: DeprecationWarning: using a non-integer number instead of an integer will result in an error in the future\n",
      "/home/ntak/.local/lib/python2.7/site-packages/ipykernel/__main__.py:14: DeprecationWarning: using a non-integer number instead of an integer will result in an error in the future\n",
      "/home/ntak/.local/lib/python2.7/site-packages/ipykernel/__main__.py:23: DeprecationWarning: using a non-integer number instead of an integer will result in an error in the future\n"
     ]
    }
   ],
   "source": [
    "mfcc2= most_resonnant_by_signal(mtest)\n",
    "butter2= butterworth_filter(mtest)\n",
    "pca2 = getPCA(5,mtest)\n",
    "test_result = mtest[:,-1]"
   ]
  },
  {
   "cell_type": "code",
   "execution_count": 35,
   "metadata": {
    "collapsed": false
   },
   "outputs": [],
   "source": [
    "train_feat = []\n",
    "test_feat = []\n",
    "train_result = mtrain[:,-1]\n",
    "for i in range(mtrain.shape[0]) :\n",
    "    #print(pca[i].shape, mfcc[i].shape)\n",
    "    train_feat.append(np.concatenate((pca[i],mfcc[i],butter[i]))) \n",
    "\n",
    "\n",
    "#train_result = mtrain[,:-1]\n",
    "\n",
    "for i in range(mtest.shape[0]) :\n",
    "    test_feat.append(np.concatenate((pca2[i],mfcc2[i],butter2[i]))) \n",
    "\n",
    "#test_result = mtest[:-1]\n",
    "\n"
   ]
  },
  {
   "cell_type": "code",
   "execution_count": 29,
   "metadata": {
    "collapsed": false
   },
   "outputs": [
    {
     "name": "stdout",
     "output_type": "stream",
     "text": [
      "[[ 1799.  1983.   397.  1642.]\n",
      " [ 2371.    85.  1671.   423.]\n",
      " [ 1801.   683.  1307.  1955.]\n",
      " ..., \n",
      " [   59.   163.  1957.  1515.]\n",
      " [  683.  1100.   215.   810.]\n",
      " [ 1151.    82.  1123.  1255.]]\n"
     ]
    }
   ],
   "source": [
    "print mfcc2"
   ]
  },
  {
   "cell_type": "code",
   "execution_count": 36,
   "metadata": {
    "collapsed": false
   },
   "outputs": [
    {
     "name": "stdout",
     "output_type": "stream",
     "text": [
      "Pourcentage correct 10: 9.77275549485\n",
      "Pourcentage correct 11: 9.98385694772\n",
      "Pourcentage correct 12: 9.61132497206\n",
      "Pourcentage correct 13: 9.84726188998\n",
      "Pourcentage correct 14: 9.69824909971\n",
      "Pourcentage correct 15: 9.84726188998\n",
      "Pourcentage correct 16: 9.82242642493\n",
      "Pourcentage correct 17: 10.0211101453\n",
      "Pourcentage correct 18: 9.84726188998\n",
      "Pourcentage correct 19: 9.98385694772\n",
      "Pourcentage correct 20: 9.99627468024\n",
      "Pourcentage correct 21: 10.2322115982\n",
      "Pourcentage correct 22: 10.0583633429\n",
      "Pourcentage correct 23: 9.90935055259\n",
      "Pourcentage correct 24: 9.89693282007\n",
      "Pourcentage correct 25: 9.82242642493\n",
      "Pourcentage correct 26: 9.92176828511\n",
      "Pourcentage correct 27: 10.0707810754\n",
      "Pourcentage correct 28: 9.93418601763\n",
      "Pourcentage correct 29: 9.90935055259\n",
      "Pourcentage correct 30: 9.98385694772\n",
      "Pourcentage correct 31: 9.99627468024\n",
      "Pourcentage correct 32: 10.1452874705\n",
      "Pourcentage correct 33: 10.1452874705\n",
      "Pourcentage correct 34: 10.157705203\n",
      "Pourcentage correct 35: 10.132869738\n",
      "Pourcentage correct 36: 10.0583633429\n",
      "Pourcentage correct 37: 10.2818825283\n",
      "Pourcentage correct 38: 10.0956165404\n",
      "Pourcentage correct 39: 9.99627468024\n",
      "Pourcentage correct 40: 9.94660375016\n",
      "Pourcentage correct 41: 9.83484415746\n",
      "Pourcentage correct 42: 9.66099590215\n",
      "Pourcentage correct 43: 9.66099590215\n",
      "Pourcentage correct 44: 9.47472991432\n",
      "Pourcentage correct 45: 9.48714764684\n",
      "Pourcentage correct 46: 9.37538805414\n",
      "Pourcentage correct 47: 9.56165404197\n",
      "Pourcentage correct 48: 9.61132497206\n",
      "Pourcentage correct 49: 9.58648950702\n",
      "Pourcentage correct 50: 9.76033776232\n",
      "Pourcentage correct 51: 9.69824909971\n",
      "Pourcentage correct 52: 9.7479200298\n",
      "Pourcentage correct 53: 9.71066683224\n",
      "Pourcentage correct 54: 9.77275549485\n",
      "Pourcentage correct 55: 9.73550229728\n",
      "Pourcentage correct 56: 9.73550229728\n",
      "Pourcentage correct 57: 9.78517322737\n",
      "Pourcentage correct 58: 9.67341363467\n",
      "Pourcentage correct 59: 9.59890723954\n",
      "Pourcentage correct 60: 9.58648950702\n",
      "Pourcentage correct 61: 9.64857816963\n",
      "Pourcentage correct 62: 9.66099590215\n",
      "Pourcentage correct 63: 9.58648950702\n",
      "Pourcentage correct 64: 9.54923630945\n",
      "Pourcentage correct 65: 9.58648950702\n",
      "Pourcentage correct 66: 9.54923630945\n",
      "Pourcentage correct 67: 9.49956537936\n",
      "Pourcentage correct 68: 9.62374270458\n",
      "Pourcentage correct 69: 9.66099590215\n",
      "Pourcentage correct 70: 9.43747671675\n",
      "Pourcentage correct 71: 9.38780578666\n",
      "Pourcentage correct 72: 9.30088165901\n",
      "Pourcentage correct 73: 9.42505898423\n",
      "Pourcentage correct 74: 9.37538805414\n",
      "Pourcentage correct 75: 9.30088165901\n",
      "Pourcentage correct 76: 9.48714764684\n",
      "Pourcentage correct 77: 9.48714764684\n",
      "Pourcentage correct 78: 9.48714764684\n",
      "Pourcentage correct 79: 9.43747671675\n",
      "Pourcentage correct 80: 9.37538805414\n",
      "Pourcentage correct 81: 9.44989444927\n",
      "Pourcentage correct 82: 9.42505898423\n",
      "Pourcentage correct 83: 9.48714764684\n",
      "Pourcentage correct 84: 9.53681857693\n",
      "Pourcentage correct 85: 9.61132497206\n",
      "Pourcentage correct 86: 9.72308456476\n",
      "Pourcentage correct 87: 9.38780578666\n",
      "Pourcentage correct 88: 9.43747671675\n",
      "Pourcentage correct 89: 9.38780578666\n",
      "Pourcentage correct 90: 9.37538805414\n",
      "Pourcentage correct 91: 9.28846392649\n",
      "Pourcentage correct 92: 9.33813485658\n",
      "Pourcentage correct 93: 9.51198311188\n",
      "Pourcentage correct 94: 9.36297032162\n",
      "Pourcentage correct 95: 9.30088165901\n",
      "Pourcentage correct 96: 9.47472991432\n",
      "Pourcentage correct 97: 9.62374270458\n",
      "Pourcentage correct 98: 9.54923630945\n",
      "Pourcentage correct 99: 9.53681857693\n"
     ]
    }
   ],
   "source": [
    "# On entraine un k-ppv pour différentes valeurs de k\n",
    "\n",
    "for n in range(10, 100):\n",
    "    # train set\n",
    "    neigh = KNeighborsClassifier(n_neighbors=n)\n",
    "    neigh.fit(train_feat, train_result)\n",
    "    \n",
    "    \n",
    "    # test set\n",
    "    predictions = neigh.predict(test_feat)\n",
    "    total_correct = np.sum(predictions == test_result)\n",
    "\n",
    "    print 'Pourcentage correct %d:' % n, float(total_correct) / len(test_feat) * 100"
   ]
  },
  {
   "cell_type": "code",
   "execution_count": 38,
   "metadata": {
    "collapsed": false
   },
   "outputs": [
    {
     "name": "stdout",
     "output_type": "stream",
     "text": [
      "Pourcentage correct 99: 9.53681857693\n"
     ]
    }
   ],
   "source": [
    "#Naif Bayes\n",
    "nbayes = naive_bayes.GaussianNB()\n",
    "\n",
    "#train\n",
    "nbayes.fit(train_feat,train_result)\n",
    "\n",
    "#test\n",
    "y = nbayes.predict(test_feat)\n",
    "total_correct = np.sum(predictions == test_result)\n",
    "\n",
    "print 'Pourcentage correct %d:' % n, float(total_correct) / len(test_feat) * 100"
   ]
  },
  {
   "cell_type": "code",
   "execution_count": null,
   "metadata": {
    "collapsed": true
   },
   "outputs": [],
   "source": [
    "from sklearn.discriminant_analysis import QuadraticDiscriminantAnalysis, LinearDiscriminantAnalysis\n",
    "from sklearn.cross_validation import cross_val_predict\n",
    "#http://scikit-learn.org/stable/modules/generated/sklearn.cross_validation.cross_val_predict.html#sklearn.cross_validation.cross_val_predict\n",
    "\n",
    "#Linear Discriminants. \n",
    "\n",
    "ldisc = LinearDiscriminantAnalysis(priors=None)\n",
    "ldisc.fit(train_vect,train_result)\n",
    "\n",
    "ldisc.predict()\n",
    "\n",
    "QuadraticDiscriminantAnalysis(priors=None, reg_param=0.0)"
   ]
  },
  {
   "cell_type": "code",
   "execution_count": null,
   "metadata": {
    "collapsed": true
   },
   "outputs": [],
   "source": []
  }
 ],
 "metadata": {
  "kernelspec": {
   "display_name": "Python 2",
   "language": "python",
   "name": "python2"
  },
  "language_info": {
   "codemirror_mode": {
    "name": "ipython",
    "version": 2
   },
   "file_extension": ".py",
   "mimetype": "text/x-python",
   "name": "python",
   "nbconvert_exporter": "python",
   "pygments_lexer": "ipython2",
   "version": "2.7.9"
  }
 },
 "nbformat": 4,
 "nbformat_minor": 0
}
