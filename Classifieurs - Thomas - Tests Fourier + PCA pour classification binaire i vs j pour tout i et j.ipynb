{
 "cells": [
  {
   "cell_type": "code",
   "execution_count": 1,
   "metadata": {
    "collapsed": false
   },
   "outputs": [
    {
     "name": "stdout",
     "output_type": "stream",
     "text": [
      "Reading data file\n"
     ]
    }
   ],
   "source": [
    "from tools.data import get_datasets\n",
    "\n",
    "\n",
    "trainset, testset = get_datasets()"
   ]
  },
  {
   "cell_type": "code",
   "execution_count": 9,
   "metadata": {
    "collapsed": false
   },
   "outputs": [],
   "source": [
    "import numpy as np\n",
    "from sklearn.decomposition import PCA\n",
    "from sklearn.neighbors import KNeighborsClassifier\n"
   ]
  },
  {
   "cell_type": "code",
   "execution_count": 4,
   "metadata": {
    "collapsed": false
   },
   "outputs": [
    {
     "name": "stdout",
     "output_type": "stream",
     "text": [
      "Nombre d'exemples train 30000\n",
      "Nombre d'exemples test 10983\n"
     ]
    }
   ],
   "source": [
    "# ca c'est le résultat qu'on obtient en prenant un classifieur\n",
    "# qui prédit tout le temps 1 (classe majoritaire)\n",
    "print('Nombre d\\'exemples train', trainset.shape[0])\n",
    "print('Nombre d\\'exemples test', testset.shape[0])"
   ]
  },
  {
   "cell_type": "code",
   "execution_count": 10,
   "metadata": {
    "collapsed": false
   },
   "outputs": [
    {
     "name": "stderr",
     "output_type": "stream",
     "text": [
      "/home/thomas/anaconda3/lib/python3.5/site-packages/ipykernel/__main__.py:15: DeprecationWarning: using a non-integer number instead of an integer will result in an error in the future\n",
      "/home/thomas/anaconda3/lib/python3.5/site-packages/ipykernel/__main__.py:25: DeprecationWarning: using a non-integer number instead of an integer will result in an error in the future\n"
     ]
    },
    {
     "name": "stdout",
     "output_type": "stream",
     "text": [
      "Pourcentage correct 0 vs 1 : 50.766400980993254\n",
      "Pourcentage correct 0 vs 2 : 50.062814070351756\n",
      "Pourcentage correct 0 vs 3 : 51.28205128205128\n",
      "Pourcentage correct 0 vs 4 : 49.67824967824968\n",
      "Pourcentage correct 0 vs 5 : 49.52741020793951\n",
      "Pourcentage correct 0 vs 6 : 51.09306683322923\n",
      "Pourcentage correct 0 vs 7 : 50.215384615384615\n",
      "Pourcentage correct 0 vs 8 : 50.63613231552163\n",
      "Pourcentage correct 0 vs 9 : 53.0\n",
      "Pourcentage correct 1 vs 2 : 50.949173300673614\n",
      "Pourcentage correct 1 vs 3 : 51.829268292682926\n",
      "Pourcentage correct 1 vs 4 : 50.78369905956113\n",
      "Pourcentage correct 1 vs 5 : 51.535626535626534\n",
      "Pourcentage correct 1 vs 6 : 48.84287454323995\n",
      "Pourcentage correct 1 vs 7 : 52.280912364945976\n",
      "Pourcentage correct 1 vs 8 : 52.13887166769994\n",
      "Pourcentage correct 1 vs 9 : 50.09140767824497\n",
      "Pourcentage correct 2 vs 3 : 51.405371642723296\n",
      "Pourcentage correct 2 vs 4 : 50.257069408740364\n",
      "Pourcentage correct 2 vs 5 : 51.290119572057904\n",
      "Pourcentage correct 2 vs 6 : 50.21834061135371\n",
      "Pourcentage correct 2 vs 7 : 49.416103257529194\n",
      "Pourcentage correct 2 vs 8 : 50.254129606099106\n",
      "Pourcentage correct 2 vs 9 : 49.68789013732834\n",
      "Pourcentage correct 3 vs 4 : 49.520153550863725\n",
      "Pourcentage correct 3 vs 5 : 51.37844611528822\n",
      "Pourcentage correct 3 vs 6 : 48.13664596273292\n",
      "Pourcentage correct 3 vs 7 : 48.65361077111383\n",
      "Pourcentage correct 3 vs 8 : 48.82985452245414\n",
      "Pourcentage correct 3 vs 9 : 50.155376009944064\n",
      "Pourcentage correct 4 vs 5 : 50.54803352675693\n",
      "Pourcentage correct 4 vs 6 : 50.22364217252397\n",
      "Pourcentage correct 4 vs 7 : 50.59786028949025\n",
      "Pourcentage correct 4 vs 8 : 50.325520833333336\n",
      "Pourcentage correct 4 vs 9 : 48.08184143222506\n",
      "Pourcentage correct 5 vs 6 : 47.87234042553192\n",
      "Pourcentage correct 5 vs 7 : 50.1233045622688\n",
      "Pourcentage correct 5 vs 8 : 51.306564690885914\n",
      "Pourcentage correct 5 vs 9 : 48.90419536631184\n",
      "Pourcentage correct 6 vs 7 : 49.02200488997555\n",
      "Pourcentage correct 6 vs 8 : 50.9159823120657\n",
      "Pourcentage correct 6 vs 9 : 49.9689633767846\n",
      "Pourcentage correct 7 vs 8 : 52.52022401991289\n",
      "Pourcentage correct 7 vs 9 : 49.60244648318043\n",
      "Pourcentage correct 8 vs 9 : 48.29329962073325\n"
     ]
    }
   ],
   "source": [
    "for classe_i in range(10):\n",
    "    for classe_j in range(classe_i+1, 10):\n",
    "        \n",
    "        train = np.compress(np.any([trainset[:,-1] == classe_i, trainset[:,-1] == classe_j], axis=0), trainset, axis=0)\n",
    "        test = np.compress(np.any([testset[:,-1] == classe_i, testset[:,-1] == classe_j], axis=0), testset, axis=0)\n",
    "        \n",
    "        train_f = np.zeros(train.shape)\n",
    "\n",
    "        for i in range(len(train_f)):\n",
    "            length = train[i,0]\n",
    "            train_f[i,0] = train[i,0]\n",
    "            train_f[i,-1] = train[i,-1]\n",
    "\n",
    "            for j in range(4):\n",
    "                train_f[i, 1+512*j:1+512*j+length] = np.abs(np.fft.fft(train[i, 1+512*j:1+512*j+length]))\n",
    "\n",
    "        test_f = np.zeros(test.shape)\n",
    "\n",
    "        for i in range(len(test_f)):\n",
    "            length = test[i,0]\n",
    "            test_f[i,0] = test[i,0]\n",
    "            test_f[i,-1] = test[i,-1]\n",
    "\n",
    "            for j in range(4):\n",
    "                test_f[i, 1+512*j:1+512*j+length] = np.abs(np.fft.fft(test[i, 1+512*j:1+512*j+length]))\n",
    "                \n",
    "        # pca\n",
    "        pca_train = PCA(25)\n",
    "        train_principal = pca_train.fit_transform(np.concatenate([train_f[:,1:300], train_f[:,1+512:300+512], train_f[:,1+2*512:300+2*512], train_f[:,1+3*512:300+3*512]], axis=1))\n",
    "        test_principal = pca_train.transform(np.concatenate([test_f[:,1:300], test_f[:,1+512:300+512], test_f[:,1+2*512:300+2*512], test_f[:,1+3*512:300+3*512]], axis=1))\n",
    "        \n",
    "        # print score\n",
    "        neigh = KNeighborsClassifier(n_neighbors=1)\n",
    "        neigh.fit(train_principal, train[:,-1])\n",
    "\n",
    "        # test set\n",
    "        total_correct = 0\n",
    "        for i in range(test_principal.shape[0]):\n",
    "            if neigh.predict(test_principal[i])[0] == test[i,-1]:\n",
    "                total_correct += 1\n",
    "\n",
    "        print('Pourcentage correct %d vs %d :' % (classe_i, classe_j), float(total_correct) / test_principal.shape[0] * 100)"
   ]
  }
 ],
 "metadata": {
  "kernelspec": {
   "display_name": "Python 3",
   "language": "python",
   "name": "python3"
  },
  "language_info": {
   "codemirror_mode": {
    "name": "ipython",
    "version": 3
   },
   "file_extension": ".py",
   "mimetype": "text/x-python",
   "name": "python",
   "nbconvert_exporter": "python",
   "pygments_lexer": "ipython3",
   "version": "3.5.0"
  }
 },
 "nbformat": 4,
 "nbformat_minor": 0
}
