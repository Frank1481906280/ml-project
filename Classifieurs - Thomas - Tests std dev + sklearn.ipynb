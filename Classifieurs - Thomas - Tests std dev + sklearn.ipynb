{
 "cells": [
  {
   "cell_type": "code",
   "execution_count": 1,
   "metadata": {
    "collapsed": false
   },
   "outputs": [
    {
     "name": "stdout",
     "output_type": "stream",
     "text": [
      "Reading data file\n"
     ]
    }
   ],
   "source": [
    "from tools.data import get_datasets\n",
    "\n",
    "train, test = get_datasets()"
   ]
  },
  {
   "cell_type": "markdown",
   "metadata": {},
   "source": [
    "## Test d'un classifieur k ppv avec des features simples\n",
    "\n",
    "Dans la suite on lance un classifieur 5-ppv en utilisant 3 features: les std dev des séries des 3 capteurs.\n",
    "\n",
    "### discussion des résultats\n",
    "Les résultats sur le test set sont des prédictions justes dans 11% des cas.\n",
    "\n",
    "En choisissant au pif on aurait bon dans $\\frac{1}{\\text{nombre de classes}} = \\frac{1}{11} = 0.9$%.\n",
    "\n",
    "Donc avec ce classifieur tout simple on est un tout petit peu mieux que le pif... encourageant non ?"
   ]
  },
  {
   "cell_type": "code",
   "execution_count": 5,
   "metadata": {
    "collapsed": false
   },
   "outputs": [],
   "source": [
    "# Create std dev features for all 3 sensors\n",
    "import numpy as np\n",
    "\n",
    "def create_std_dev(dataset):\n",
    "    features = np.zeros((dataset.shape[0], 4))\n",
    "    for i in range(dataset.shape[0]):\n",
    "        features[i,0] = np.std(dataset[i, 0:476]) \n",
    "        features[i,1] = np.std(dataset[i, 476: 476*2]) \n",
    "        features[i,2] = np.std(dataset[i, 476*2: 476*3])\n",
    "        features[i,3] = dataset[i,-1]\n",
    "    return features\n",
    "\n",
    "train_std = create_std_dev(train)\n",
    "test_std = create_std_dev(test)"
   ]
  },
  {
   "cell_type": "code",
   "execution_count": 16,
   "metadata": {
    "collapsed": false
   },
   "outputs": [
    {
     "name": "stdout",
     "output_type": "stream",
     "text": [
      "Pourcentage correct: 11.4975159688\n"
     ]
    }
   ],
   "source": [
    "from sklearn.neighbors import KNeighborsClassifier\n",
    "\n",
    "# train set\n",
    "neigh = KNeighborsClassifier(n_neighbors=5)\n",
    "neigh.fit(train_std[:,:-1], train_std[:,-1])\n",
    "\n",
    "# test set\n",
    "total_correct = 0\n",
    "for i in range(test_std.shape[0]):\n",
    "    if neigh.predict(test_std[i,:-1])[0] == test_std[i,-1]:\n",
    "        total_correct += 1\n",
    "        \n",
    "print 'Pourcentage correct:', float(total_correct) / test_std.shape[0] * 100"
   ]
  }
 ],
 "metadata": {
  "kernelspec": {
   "display_name": "Python 2",
   "language": "python",
   "name": "python2"
  },
  "language_info": {
   "codemirror_mode": {
    "name": "ipython",
    "version": 2
   },
   "file_extension": ".py",
   "mimetype": "text/x-python",
   "name": "python",
   "nbconvert_exporter": "python",
   "pygments_lexer": "ipython2",
   "version": "2.7.10"
  }
 },
 "nbformat": 4,
 "nbformat_minor": 0
}
