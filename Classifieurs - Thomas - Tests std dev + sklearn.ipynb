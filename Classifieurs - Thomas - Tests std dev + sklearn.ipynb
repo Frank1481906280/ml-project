{
 "cells": [
  {
   "cell_type": "code",
   "execution_count": 1,
   "metadata": {
    "collapsed": false
   },
   "outputs": [
    {
     "name": "stdout",
     "output_type": "stream",
     "text": [
      "Reading data file\n"
     ]
    }
   ],
   "source": [
    "from tools.data import get_datasets\n",
    "\n",
    "train, test = get_datasets()"
   ]
  },
  {
   "cell_type": "code",
   "execution_count": 4,
   "metadata": {
    "collapsed": false
   },
   "outputs": [],
   "source": [
    "# Exclusion des -1 qui sont majoritaires dans les datasets\n",
    "import numpy as np\n",
    "\n",
    "train = np.compress(train[:,-1] >= 0, train, axis=0)\n",
    "test = np.compress(test[:,-1] >= 0, test, axis=0)"
   ]
  },
  {
   "cell_type": "markdown",
   "metadata": {},
   "source": [
    "## Test d'un classifieur k ppv avec des features simples\n",
    "\n",
    "Dans la suite on lance un classifieur 5-ppv en utilisant 3 features: les std dev des séries des 3 capteurs.\n",
    "\n",
    "### discussion des résultats\n",
    "Les résultats sur le test set sont des prédictions justes dans 11% des cas.\n",
    "\n",
    "En choisissant au pif on aurait bon dans $\\frac{1}{\\text{nombre de classes}} = \\frac{1}{11} = 0.9$%.\n",
    "\n",
    "Donc avec ce classifieur tout simple on est un tout petit peu mieux que le pif... encourageant non ?"
   ]
  },
  {
   "cell_type": "code",
   "execution_count": 5,
   "metadata": {
    "collapsed": false
   },
   "outputs": [
    {
     "name": "stderr",
     "output_type": "stream",
     "text": [
      "/home/python/anaconda/lib/python2.7/site-packages/ipykernel/__main__.py:8: DeprecationWarning: using a non-integer number instead of an integer will result in an error in the future\n",
      "/home/python/anaconda/lib/python2.7/site-packages/ipykernel/__main__.py:9: DeprecationWarning: using a non-integer number instead of an integer will result in an error in the future\n",
      "/home/python/anaconda/lib/python2.7/site-packages/ipykernel/__main__.py:10: DeprecationWarning: using a non-integer number instead of an integer will result in an error in the future\n",
      "/home/python/anaconda/lib/python2.7/site-packages/ipykernel/__main__.py:11: DeprecationWarning: using a non-integer number instead of an integer will result in an error in the future\n"
     ]
    }
   ],
   "source": [
    "# Create std dev features for all 3 sensors\n",
    "import numpy as np\n",
    "\n",
    "def create_std_dev(dataset):\n",
    "    features = np.zeros((dataset.shape[0], 5))\n",
    "    for i in range(dataset.shape[0]):\n",
    "        length = dataset[i,0]\n",
    "        features[i,0] = np.std(dataset[i, 1+512*0:1+512*0+length]) \n",
    "        features[i,1] = np.std(dataset[i, 1+512*1:1+512*1+length]) \n",
    "        features[i,2] = np.std(dataset[i, 1+512*2:1+512*2+length])\n",
    "        features[i,3] = np.std(dataset[i, 1+512*3:1+512*3+length])\n",
    "        features[i,4] = dataset[i,-1]\n",
    "    return features\n",
    "\n",
    "train_std = create_std_dev(train)\n",
    "test_std = create_std_dev(test)"
   ]
  },
  {
   "cell_type": "code",
   "execution_count": 6,
   "metadata": {
    "collapsed": false,
    "scrolled": true
   },
   "outputs": [
    {
     "name": "stdout",
     "output_type": "stream",
     "text": [
      "Pourcentage correct: 9.51198311188\n"
     ]
    }
   ],
   "source": [
    "from sklearn.neighbors import KNeighborsClassifier\n",
    "\n",
    "# train set\n",
    "neigh = KNeighborsClassifier(n_neighbors=5)\n",
    "neigh.fit(train_std[:,:-1], train_std[:,-1])\n",
    "\n",
    "# test set\n",
    "total_correct = 0\n",
    "for i in range(test_std.shape[0]):\n",
    "    if neigh.predict(test_std[i,:-1])[0] == test_std[i,-1]:\n",
    "        total_correct += 1\n",
    "        \n",
    "print 'Pourcentage correct:', float(total_correct) / test_std.shape[0] * 100"
   ]
  }
 ],
 "metadata": {
  "kernelspec": {
   "display_name": "Python 2",
   "language": "python",
   "name": "python2"
  },
  "language_info": {
   "codemirror_mode": {
    "name": "ipython",
    "version": 2
   },
   "file_extension": ".py",
   "mimetype": "text/x-python",
   "name": "python",
   "nbconvert_exporter": "python",
   "pygments_lexer": "ipython2",
   "version": "2.7.10"
  }
 },
 "nbformat": 4,
 "nbformat_minor": 0
}
