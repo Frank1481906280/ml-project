{
 "cells": [
  {
   "cell_type": "code",
   "execution_count": 1,
   "metadata": {
    "collapsed": false
   },
   "outputs": [
    {
     "name": "stdout",
     "output_type": "stream",
     "text": [
      "Reading data file\n"
     ]
    }
   ],
   "source": [
    "from tools.data import get_datasets\n",
    "\n",
    "train, test = get_datasets()"
   ]
  },
  {
   "cell_type": "code",
   "execution_count": 2,
   "metadata": {
    "collapsed": true
   },
   "outputs": [],
   "source": [
    "%matplotlib inline\n",
    "\n",
    "import matplotlib.pyplot as plt"
   ]
  },
  {
   "cell_type": "code",
   "execution_count": 3,
   "metadata": {
    "collapsed": false
   },
   "outputs": [],
   "source": [
    "# Classification -1 vs >=0\n",
    "# on prépare les données:\n",
    "# tout ce qui est un chiffre -> 1\n",
    "# tout ce qui est du bruit -> 0\n",
    "import numpy as np\n",
    "\n",
    "train[train[:,-1] >= 0,-1] =  0\n",
    "test[test[:,-1] >= 0,-1] =  0\n",
    "\n",
    "train[:,-1] = train[:,-1] + 1\n",
    "test[:,-1] = test[:,-1] + 1"
   ]
  },
  {
   "cell_type": "code",
   "execution_count": 16,
   "metadata": {
    "collapsed": false
   },
   "outputs": [
    {
     "name": "stdout",
     "output_type": "stream",
     "text": [
      "8173\n",
      "21827\n",
      "(16346, 2050)\n",
      "8173\n",
      "8173\n"
     ]
    }
   ],
   "source": [
    "print (train[:,-1] == 0).sum()\n",
    "print (train[:,-1] == 1).sum()\n",
    "\n",
    "train_0 = np.compress(train[:,-1] == 0, train, axis=0)\n",
    "train_1 = np.compress(train[:,-1] == 1, train, axis=0)[:train_0.shape[0]]\n",
    "\n",
    "train_balanced = np.concatenate((train_0, train_1))\n",
    "\n",
    "print train_balanced.shape\n",
    "\n",
    "indices = np.arange(train_0.shape[0]*2)\n",
    "np.random.shuffle(indices)\n",
    "\n",
    "train_balanced = train_balanced[indices, :]\n",
    "\n",
    "print (train_balanced[:,-1] == 0).sum()\n",
    "print (train_balanced[:,-1] == 1).sum()"
   ]
  },
  {
   "cell_type": "code",
   "execution_count": 14,
   "metadata": {
    "collapsed": false
   },
   "outputs": [],
   "source": [
    "import theano.tensor as T\n",
    "import theano\n",
    "\n",
    "y_true = T.tensor3()\n",
    "y_pred = T.tensor3()\n",
    "\n",
    "nll = theano.function([y_true, y_pred], T.log(T.tensordot(y_true, y_pred)))\n"
   ]
  },
  {
   "cell_type": "code",
   "execution_count": 15,
   "metadata": {
    "collapsed": false
   },
   "outputs": [
    {
     "ename": "TypeError",
     "evalue": "'TensorVariable' object is not callable",
     "output_type": "error",
     "traceback": [
      "\u001b[1;31m---------------------------------------------------------------------------\u001b[0m",
      "\u001b[1;31mTypeError\u001b[0m                                 Traceback (most recent call last)",
      "\u001b[1;32m<ipython-input-15-ae2b7653dc04>\u001b[0m in \u001b[0;36m<module>\u001b[1;34m()\u001b[0m\n\u001b[0;32m     31\u001b[0m \u001b[1;33m\u001b[0m\u001b[0m\n\u001b[0;32m     32\u001b[0m \u001b[0madadelta\u001b[0m \u001b[1;33m=\u001b[0m \u001b[0mAdadelta\u001b[0m\u001b[1;33m(\u001b[0m\u001b[1;33m)\u001b[0m\u001b[1;33m\u001b[0m\u001b[0m\n\u001b[1;32m---> 33\u001b[1;33m \u001b[0mmodel\u001b[0m\u001b[1;33m.\u001b[0m\u001b[0mcompile\u001b[0m\u001b[1;33m(\u001b[0m\u001b[0mloss\u001b[0m\u001b[1;33m=\u001b[0m\u001b[0mnll\u001b[0m\u001b[1;33m,\u001b[0m \u001b[0moptimizer\u001b[0m\u001b[1;33m=\u001b[0m\u001b[0madadelta\u001b[0m\u001b[1;33m)\u001b[0m\u001b[1;33m\u001b[0m\u001b[0m\n\u001b[0m",
      "\u001b[1;32m/usr/local/lib/python2.7/dist-packages/keras/models.pyc\u001b[0m in \u001b[0;36mcompile\u001b[1;34m(self, optimizer, loss, class_mode, theano_mode)\u001b[0m\n\u001b[0;32m    363\u001b[0m         \u001b[1;32melse\u001b[0m\u001b[1;33m:\u001b[0m\u001b[1;33m\u001b[0m\u001b[0m\n\u001b[0;32m    364\u001b[0m             \u001b[0mmask\u001b[0m \u001b[1;33m=\u001b[0m \u001b[0mNone\u001b[0m\u001b[1;33m\u001b[0m\u001b[0m\n\u001b[1;32m--> 365\u001b[1;33m         \u001b[0mtrain_loss\u001b[0m \u001b[1;33m=\u001b[0m \u001b[0mweighted_loss\u001b[0m\u001b[1;33m(\u001b[0m\u001b[0mself\u001b[0m\u001b[1;33m.\u001b[0m\u001b[0my\u001b[0m\u001b[1;33m,\u001b[0m \u001b[0mself\u001b[0m\u001b[1;33m.\u001b[0m\u001b[0my_train\u001b[0m\u001b[1;33m,\u001b[0m \u001b[0mself\u001b[0m\u001b[1;33m.\u001b[0m\u001b[0mweights\u001b[0m\u001b[1;33m,\u001b[0m \u001b[0mmask\u001b[0m\u001b[1;33m)\u001b[0m\u001b[1;33m\u001b[0m\u001b[0m\n\u001b[0m\u001b[0;32m    366\u001b[0m         \u001b[0mtest_loss\u001b[0m \u001b[1;33m=\u001b[0m \u001b[0mweighted_loss\u001b[0m\u001b[1;33m(\u001b[0m\u001b[0mself\u001b[0m\u001b[1;33m.\u001b[0m\u001b[0my\u001b[0m\u001b[1;33m,\u001b[0m \u001b[0mself\u001b[0m\u001b[1;33m.\u001b[0m\u001b[0my_test\u001b[0m\u001b[1;33m,\u001b[0m \u001b[0mself\u001b[0m\u001b[1;33m.\u001b[0m\u001b[0mweights\u001b[0m\u001b[1;33m,\u001b[0m \u001b[0mmask\u001b[0m\u001b[1;33m)\u001b[0m\u001b[1;33m\u001b[0m\u001b[0m\n\u001b[0;32m    367\u001b[0m \u001b[1;33m\u001b[0m\u001b[0m\n",
      "\u001b[1;32m/usr/local/lib/python2.7/dist-packages/keras/models.pyc\u001b[0m in \u001b[0;36mweighted\u001b[1;34m(y_true, y_pred, weights, mask)\u001b[0m\n\u001b[0;32m     70\u001b[0m         \u001b[0mfiltered_y_pred\u001b[0m \u001b[1;33m=\u001b[0m \u001b[0my_pred\u001b[0m\u001b[1;33m[\u001b[0m\u001b[0mweights\u001b[0m\u001b[1;33m.\u001b[0m\u001b[0mnonzero\u001b[0m\u001b[1;33m(\u001b[0m\u001b[1;33m)\u001b[0m\u001b[1;33m[\u001b[0m\u001b[1;33m:\u001b[0m\u001b[1;33m-\u001b[0m\u001b[1;36m1\u001b[0m\u001b[1;33m]\u001b[0m\u001b[1;33m]\u001b[0m\u001b[1;33m\u001b[0m\u001b[0m\n\u001b[0;32m     71\u001b[0m         \u001b[0mfiltered_weights\u001b[0m \u001b[1;33m=\u001b[0m \u001b[0mweights\u001b[0m\u001b[1;33m[\u001b[0m\u001b[0mweights\u001b[0m\u001b[1;33m.\u001b[0m\u001b[0mnonzero\u001b[0m\u001b[1;33m(\u001b[0m\u001b[1;33m)\u001b[0m\u001b[1;33m]\u001b[0m\u001b[1;33m\u001b[0m\u001b[0m\n\u001b[1;32m---> 72\u001b[1;33m         \u001b[0mobj_output\u001b[0m \u001b[1;33m=\u001b[0m \u001b[0mfn\u001b[0m\u001b[1;33m(\u001b[0m\u001b[0mfiltered_y_true\u001b[0m\u001b[1;33m,\u001b[0m \u001b[0mfiltered_y_pred\u001b[0m\u001b[1;33m)\u001b[0m\u001b[1;33m\u001b[0m\u001b[0m\n\u001b[0m\u001b[0;32m     73\u001b[0m         \u001b[0mweighted\u001b[0m \u001b[1;33m=\u001b[0m \u001b[0mfiltered_weights\u001b[0m \u001b[1;33m*\u001b[0m \u001b[0mobj_output\u001b[0m\u001b[1;33m\u001b[0m\u001b[0m\n\u001b[0;32m     74\u001b[0m         \u001b[1;32mif\u001b[0m \u001b[0mmask\u001b[0m \u001b[1;32mis\u001b[0m \u001b[0mNone\u001b[0m\u001b[1;33m:\u001b[0m\u001b[1;33m\u001b[0m\u001b[0m\n",
      "\u001b[1;31mTypeError\u001b[0m: 'TensorVariable' object is not callable"
     ]
    }
   ],
   "source": [
    "from keras.models import Sequential\n",
    "from keras.layers.core import Dense, Dropout, Activation, Merge, Flatten\n",
    "from keras.optimizers import SGD, Adadelta\n",
    "from keras.layers.convolutional import Convolution1D, MaxPooling1D\n",
    "\n",
    "nb_filters = 10\n",
    "filter_length = 5\n",
    "\n",
    "first_layers = []\n",
    "for i in range(4):\n",
    "    first_layers.append(Sequential())\n",
    "    first_layers[-1].add(Convolution1D(nb_filters, filter_length,\n",
    "                        border_mode='valid',\n",
    "                        input_shape=(408, 1), init='glorot_normal'))\n",
    "    first_layers[-1].add(MaxPooling1D(pool_length=2))\n",
    "    first_layers[-1].add(Activation('tanh'))\n",
    "    first_layers[-1].add(Convolution1D(nb_filters, filter_length,\n",
    "                        border_mode='valid', init='glorot_normal'))\n",
    "    first_layers[-1].add(MaxPooling1D(pool_length=2))\n",
    "    first_layers[-1].add(Activation('tanh'))\n",
    "    first_layers[-1].add(Flatten())\n",
    "\n",
    "\n",
    "model = Sequential()\n",
    "model.add(Merge(first_layers, mode='concat', concat_axis=1))\n",
    "\n",
    "model.add(Dense(100))\n",
    "model.add(Activation('tanh'))\n",
    "model.add(Dense(2))\n",
    "model.add(Activation('softmax'))\n",
    "\n",
    "adadelta = Adadelta()\n",
    "model.compile(loss=nll, optimizer=adadelta)"
   ]
  },
  {
   "cell_type": "code",
   "execution_count": 18,
   "metadata": {
    "collapsed": true
   },
   "outputs": [],
   "source": [
    "from keras.utils import np_utils\n",
    "\n",
    "train_x = train_balanced.astype('float32')\n",
    "valid_x = test[:5000].astype('float32')\n",
    "test_x = test[5000:].astype('float32')\n",
    "\n",
    "train_y = np_utils.to_categorical(train_balanced[:,-1], 2)\n",
    "valid_y = np_utils.to_categorical(test[:5000,-1], 2)\n",
    "test_y = np_utils.to_categorical(test[5000:,-1], 2)\n",
    "\n",
    "train_4 = [train_x[:,1+512*0:1+512*0+408,None], train_x[:,1+512*1:1+512*1+408,None], train_x[:,1+512*2:1+512*2+408,None], train_x[:,1+512*3:1+512*3+408,None]]\n",
    "valid_4 = [valid_x[:,1+512*0:1+512*0+408,None], valid_x[:,1+512*1:1+512*1+408,None], valid_x[:,1+512*2:1+512*2+408,None], valid_x[:,1+512*3:1+512*3+408,None]]\n",
    "test_4 = [test_x[:,1+512*0:1+512*0+408,None], test_x[:,1+512*1:1+512*1+408,None], test_x[:,1+512*2:1+512*2+408,None], test_x[:,1+512*3:1+512*3+408,None]]\n"
   ]
  },
  {
   "cell_type": "code",
   "execution_count": null,
   "metadata": {
    "collapsed": false,
    "scrolled": false
   },
   "outputs": [
    {
     "name": "stdout",
     "output_type": "stream",
     "text": [
      "Train on 16346 samples, validate on 5000 samples\n",
      "Epoch 1/100\n",
      "34s - loss: 1.2898 - acc: 0.5022 - val_loss: 0.7972 - val_acc: 0.2616\n",
      "Epoch 2/100\n",
      "34s - loss: 0.6965 - acc: 0.4985 - val_loss: 0.7408 - val_acc: 0.2616\n"
     ]
    }
   ],
   "source": [
    "batch_size = 250\n",
    "nb_epoch = 100\n",
    "\n",
    "model.fit(train_4, train_y,\n",
    "          batch_size=batch_size, nb_epoch=nb_epoch,\n",
    "          show_accuracy=True, verbose=2,\n",
    "          validation_data=(valid_4, valid_y))\n",
    "score = model.evaluate(test_4, test_y,\n",
    "                       show_accuracy=True, verbose=0)\n",
    "print score"
   ]
  },
  {
   "cell_type": "code",
   "execution_count": 47,
   "metadata": {
    "collapsed": false,
    "scrolled": false
   },
   "outputs": [
    {
     "name": "stdout",
     "output_type": "stream",
     "text": [
      "[0.61743914956494994, 0.73006852749456796]\n",
      "Train on 30000 samples, validate on 5000 samples\n",
      "Epoch 1/100\n",
      "32s - loss: 0.6286 - acc: 0.7186 - val_loss: 0.6145 - val_acc: 0.7396\n",
      "Epoch 2/100\n",
      "32s - loss: 0.6015 - acc: 0.7253 - val_loss: 0.5728 - val_acc: 0.7408\n",
      "Epoch 3/100\n",
      "32s - loss: 0.6172 - acc: 0.7217 - val_loss: 0.5834 - val_acc: 0.7404\n",
      "Epoch 4/100\n",
      "32s - loss: 0.6166 - acc: 0.7224 - val_loss: 0.5868 - val_acc: 0.7408\n",
      "Epoch 5/100\n",
      "32s - loss: 0.6079 - acc: 0.7302 - val_loss: 0.5746 - val_acc: 0.7408\n",
      "Epoch 6/100\n",
      "32s - loss: 0.5953 - acc: 0.7304 - val_loss: 0.5898 - val_acc: 0.7408\n",
      "Epoch 7/100\n",
      "32s - loss: 0.6254 - acc: 0.7178 - val_loss: 1.5663 - val_acc: 0.7384\n",
      "Epoch 8/100\n",
      "32s - loss: 1.2727 - acc: 0.5930 - val_loss: 0.8187 - val_acc: 0.7386\n",
      "Epoch 9/100\n",
      "32s - loss: 1.3237 - acc: 0.5839 - val_loss: 0.5947 - val_acc: 0.7392\n",
      "Epoch 10/100\n",
      "33s - loss: 1.2637 - acc: 0.6048 - val_loss: 2.3780 - val_acc: 0.7384\n",
      "Epoch 11/100\n",
      "32s - loss: 1.3935 - acc: 0.5946 - val_loss: 0.8742 - val_acc: 0.2614\n",
      "Epoch 12/100\n",
      "33s - loss: 1.3669 - acc: 0.6047 - val_loss: 0.7071 - val_acc: 0.7396\n",
      "Epoch 13/100\n",
      "33s - loss: 1.3031 - acc: 0.5934 - val_loss: 1.7765 - val_acc: 0.7386\n",
      "Epoch 14/100\n",
      "32s - loss: 1.3655 - acc: 0.5956 - val_loss: 1.2559 - val_acc: 0.7384\n",
      "Epoch 15/100\n",
      "32s - loss: 1.3902 - acc: 0.5911 - val_loss: 1.2016 - val_acc: 0.7384\n",
      "Epoch 16/100\n",
      "32s - loss: 1.3115 - acc: 0.5951 - val_loss: 0.7431 - val_acc: 0.7384\n",
      "Epoch 17/100\n",
      "32s - loss: 1.2886 - acc: 0.5983 - val_loss: 0.6093 - val_acc: 0.7388\n",
      "Epoch 18/100\n",
      "32s - loss: 1.2959 - acc: 0.5923 - val_loss: 1.9864 - val_acc: 0.7384\n",
      "Epoch 19/100\n",
      "32s - loss: 1.3643 - acc: 0.5823 - val_loss: 1.0175 - val_acc: 0.7384\n",
      "Epoch 20/100\n",
      "32s - loss: 1.2833 - acc: 0.5911 - val_loss: 2.6204 - val_acc: 0.7384\n",
      "Epoch 21/100\n",
      "32s - loss: 1.3404 - acc: 0.6000 - val_loss: 0.9161 - val_acc: 0.2614\n",
      "Epoch 22/100\n",
      "32s - loss: 1.2940 - acc: 0.5951 - val_loss: 0.6842 - val_acc: 0.7398\n",
      "Epoch 23/100\n",
      "32s - loss: 1.3256 - acc: 0.5883 - val_loss: 0.7149 - val_acc: 0.2606\n",
      "Epoch 24/100\n",
      "32s - loss: 1.3081 - acc: 0.5935 - val_loss: 0.8091 - val_acc: 0.2614\n",
      "Epoch 25/100\n",
      "32s - loss: 1.3541 - acc: 0.5926 - val_loss: 1.9303 - val_acc: 0.7384\n",
      "Epoch 26/100\n",
      "32s - loss: 1.3705 - acc: 0.5935 - val_loss: 1.2329 - val_acc: 0.7384\n",
      "Epoch 27/100\n",
      "32s - loss: 1.2899 - acc: 0.5994 - val_loss: 0.5745 - val_acc: 0.7392\n",
      "Epoch 28/100\n",
      "32s - loss: 1.4172 - acc: 0.5846 - val_loss: 1.2498 - val_acc: 0.7384\n",
      "Epoch 29/100\n",
      "32s - loss: 1.2570 - acc: 0.5992 - val_loss: 1.6466 - val_acc: 0.7384\n",
      "Epoch 30/100\n",
      "33s - loss: 1.4059 - acc: 0.5843 - val_loss: 0.7007 - val_acc: 0.2604\n",
      "Epoch 31/100\n",
      "33s - loss: 1.2350 - acc: 0.5967 - val_loss: 0.5748 - val_acc: 0.7394\n",
      "Epoch 32/100\n",
      "32s - loss: 1.3975 - acc: 0.5833 - val_loss: 0.7335 - val_acc: 0.2614\n",
      "Epoch 33/100\n",
      "32s - loss: 1.4075 - acc: 0.5847 - val_loss: 0.9772 - val_acc: 0.7386\n",
      "Epoch 34/100\n",
      "32s - loss: 1.3619 - acc: 0.5906 - val_loss: 2.3550 - val_acc: 0.7384\n",
      "Epoch 35/100\n",
      "32s - loss: 1.3520 - acc: 0.5985 - val_loss: 0.6514 - val_acc: 0.7386\n",
      "Epoch 36/100\n",
      "32s - loss: 1.3279 - acc: 0.5900 - val_loss: 0.5764 - val_acc: 0.7390\n",
      "Epoch 37/100\n",
      "32s - loss: 1.3453 - acc: 0.5911 - val_loss: 1.6270 - val_acc: 0.7384\n",
      "Epoch 38/100\n",
      "32s - loss: 1.3003 - acc: 0.5998 - val_loss: 0.7311 - val_acc: 0.2610\n",
      "Epoch 39/100\n",
      "32s - loss: 1.2874 - acc: 0.5903 - val_loss: 1.4158 - val_acc: 0.7384\n",
      "Epoch 40/100\n",
      "32s - loss: 1.4352 - acc: 0.5939 - val_loss: 0.9067 - val_acc: 0.7386\n",
      "Epoch 41/100\n",
      "32s - loss: 1.3318 - acc: 0.6070 - val_loss: 0.5976 - val_acc: 0.7386\n",
      "Epoch 42/100\n",
      "32s - loss: 1.3734 - acc: 0.5903 - val_loss: 1.6564 - val_acc: 0.7384\n",
      "Epoch 43/100\n",
      "32s - loss: 1.4000 - acc: 0.5787 - val_loss: 1.9542 - val_acc: 0.7384\n",
      "Epoch 44/100\n",
      "32s - loss: 1.3814 - acc: 0.5910 - val_loss: 0.8393 - val_acc: 0.7386\n",
      "Epoch 45/100\n",
      "32s - loss: 1.3678 - acc: 0.5891 - val_loss: 0.6174 - val_acc: 0.7386\n",
      "Epoch 46/100\n",
      "32s - loss: 1.2989 - acc: 0.5935 - val_loss: 0.6108 - val_acc: 0.7386\n",
      "Epoch 47/100\n",
      "32s - loss: 1.3498 - acc: 0.5976 - val_loss: 0.8127 - val_acc: 0.2614\n",
      "Epoch 48/100\n",
      "32s - loss: 1.4214 - acc: 0.5944 - val_loss: 2.6272 - val_acc: 0.7384\n",
      "Epoch 49/100\n",
      "32s - loss: 1.3679 - acc: 0.5971 - val_loss: 1.2550 - val_acc: 0.2616\n",
      "Epoch 50/100\n",
      "32s - loss: 1.4359 - acc: 0.5761 - val_loss: 0.7446 - val_acc: 0.2614\n",
      "Epoch 51/100\n",
      "32s - loss: 1.3364 - acc: 0.5867 - val_loss: 0.6309 - val_acc: 0.7388\n",
      "Epoch 52/100\n",
      "32s - loss: 1.3319 - acc: 0.5788 - val_loss: 0.9437 - val_acc: 0.7386\n",
      "Epoch 53/100\n",
      "32s - loss: 1.4621 - acc: 0.5923 - val_loss: 0.9500 - val_acc: 0.2614\n",
      "Epoch 54/100\n",
      "32s - loss: 1.5198 - acc: 0.5820 - val_loss: 1.5338 - val_acc: 0.7384\n",
      "Epoch 55/100\n",
      "32s - loss: 1.3842 - acc: 0.5944 - val_loss: 2.8257 - val_acc: 0.7384\n",
      "Epoch 56/100\n",
      "32s - loss: 1.2873 - acc: 0.5858 - val_loss: 2.6562 - val_acc: 0.7384\n",
      "Epoch 57/100\n",
      "32s - loss: 1.4105 - acc: 0.5891 - val_loss: 1.1318 - val_acc: 0.7386\n",
      "Epoch 58/100\n",
      "32s - loss: 1.3514 - acc: 0.5908 - val_loss: 0.7642 - val_acc: 0.2614\n",
      "Epoch 59/100\n",
      "32s - loss: 1.3473 - acc: 0.5918 - val_loss: 1.0507 - val_acc: 0.2614\n",
      "Epoch 60/100\n",
      "32s - loss: 1.3165 - acc: 0.5892 - val_loss: 0.6193 - val_acc: 0.7388\n",
      "Epoch 61/100\n",
      "32s - loss: 1.3064 - acc: 0.5940 - val_loss: 1.1076 - val_acc: 0.7386\n",
      "Epoch 62/100\n",
      "32s - loss: 1.4466 - acc: 0.5892 - val_loss: 0.7049 - val_acc: 0.2610\n",
      "Epoch 63/100\n",
      "32s - loss: 1.3424 - acc: 0.5833 - val_loss: 0.5746 - val_acc: 0.7388\n",
      "Epoch 64/100\n",
      "32s - loss: 1.3130 - acc: 0.5918 - val_loss: 0.5963 - val_acc: 0.7386\n",
      "Epoch 65/100\n",
      "32s - loss: 1.3838 - acc: 0.5916 - val_loss: 1.1069 - val_acc: 0.7386\n",
      "Epoch 66/100\n",
      "32s - loss: 1.3360 - acc: 0.6017 - val_loss: 1.1189 - val_acc: 0.2614\n",
      "Epoch 67/100\n",
      "32s - loss: 1.4030 - acc: 0.5830 - val_loss: 0.5849 - val_acc: 0.7388\n",
      "Epoch 68/100\n",
      "32s - loss: 1.3455 - acc: 0.5853 - val_loss: 1.0587 - val_acc: 0.2614\n",
      "Epoch 69/100\n",
      "32s - loss: 1.3604 - acc: 0.5810 - val_loss: 0.6072 - val_acc: 0.7390\n",
      "Epoch 70/100\n"
     ]
    },
    {
     "ename": "KeyboardInterrupt",
     "evalue": "",
     "output_type": "error",
     "traceback": [
      "\u001b[1;31m---------------------------------------------------------------------------\u001b[0m",
      "\u001b[1;31mKeyboardInterrupt\u001b[0m                         Traceback (most recent call last)",
      "\u001b[1;32m<ipython-input-47-e1af1fd7e202>\u001b[0m in \u001b[0;36m<module>\u001b[1;34m()\u001b[0m\n\u001b[0;32m      3\u001b[0m           \u001b[0mbatch_size\u001b[0m\u001b[1;33m=\u001b[0m\u001b[0mbatch_size\u001b[0m\u001b[1;33m,\u001b[0m \u001b[0mnb_epoch\u001b[0m\u001b[1;33m=\u001b[0m\u001b[0mnb_epoch\u001b[0m\u001b[1;33m,\u001b[0m\u001b[1;33m\u001b[0m\u001b[0m\n\u001b[0;32m      4\u001b[0m           \u001b[0mshow_accuracy\u001b[0m\u001b[1;33m=\u001b[0m\u001b[0mTrue\u001b[0m\u001b[1;33m,\u001b[0m \u001b[0mverbose\u001b[0m\u001b[1;33m=\u001b[0m\u001b[1;36m2\u001b[0m\u001b[1;33m,\u001b[0m\u001b[1;33m\u001b[0m\u001b[0m\n\u001b[1;32m----> 5\u001b[1;33m           validation_data=(valid_4, valid_y))\n\u001b[0m\u001b[0;32m      6\u001b[0m score = model.evaluate(test_4, test_y,\n\u001b[0;32m      7\u001b[0m                        show_accuracy=True, verbose=0)\n",
      "\u001b[1;32m/usr/local/lib/python2.7/dist-packages/keras/models.pyc\u001b[0m in \u001b[0;36mfit\u001b[1;34m(self, X, y, batch_size, nb_epoch, verbose, callbacks, validation_split, validation_data, shuffle, show_accuracy, class_weight, sample_weight)\u001b[0m\n\u001b[0;32m    487\u001b[0m                          \u001b[0mverbose\u001b[0m\u001b[1;33m=\u001b[0m\u001b[0mverbose\u001b[0m\u001b[1;33m,\u001b[0m \u001b[0mcallbacks\u001b[0m\u001b[1;33m=\u001b[0m\u001b[0mcallbacks\u001b[0m\u001b[1;33m,\u001b[0m\u001b[1;33m\u001b[0m\u001b[0m\n\u001b[0;32m    488\u001b[0m                          \u001b[0mval_f\u001b[0m\u001b[1;33m=\u001b[0m\u001b[0mval_f\u001b[0m\u001b[1;33m,\u001b[0m \u001b[0mval_ins\u001b[0m\u001b[1;33m=\u001b[0m\u001b[0mval_ins\u001b[0m\u001b[1;33m,\u001b[0m\u001b[1;33m\u001b[0m\u001b[0m\n\u001b[1;32m--> 489\u001b[1;33m                          shuffle=shuffle, metrics=metrics)\n\u001b[0m\u001b[0;32m    490\u001b[0m \u001b[1;33m\u001b[0m\u001b[0m\n\u001b[0;32m    491\u001b[0m     \u001b[1;32mdef\u001b[0m \u001b[0mpredict\u001b[0m\u001b[1;33m(\u001b[0m\u001b[0mself\u001b[0m\u001b[1;33m,\u001b[0m \u001b[0mX\u001b[0m\u001b[1;33m,\u001b[0m \u001b[0mbatch_size\u001b[0m\u001b[1;33m=\u001b[0m\u001b[1;36m128\u001b[0m\u001b[1;33m,\u001b[0m \u001b[0mverbose\u001b[0m\u001b[1;33m=\u001b[0m\u001b[1;36m0\u001b[0m\u001b[1;33m)\u001b[0m\u001b[1;33m:\u001b[0m\u001b[1;33m\u001b[0m\u001b[0m\n",
      "\u001b[1;32m/usr/local/lib/python2.7/dist-packages/keras/models.pyc\u001b[0m in \u001b[0;36m_fit\u001b[1;34m(self, f, ins, out_labels, batch_size, nb_epoch, verbose, callbacks, val_f, val_ins, shuffle, metrics)\u001b[0m\n\u001b[0;32m    208\u001b[0m                 \u001b[0mbatch_logs\u001b[0m\u001b[1;33m[\u001b[0m\u001b[1;34m'size'\u001b[0m\u001b[1;33m]\u001b[0m \u001b[1;33m=\u001b[0m \u001b[0mlen\u001b[0m\u001b[1;33m(\u001b[0m\u001b[0mbatch_ids\u001b[0m\u001b[1;33m)\u001b[0m\u001b[1;33m\u001b[0m\u001b[0m\n\u001b[0;32m    209\u001b[0m                 \u001b[0mcallbacks\u001b[0m\u001b[1;33m.\u001b[0m\u001b[0mon_batch_begin\u001b[0m\u001b[1;33m(\u001b[0m\u001b[0mbatch_index\u001b[0m\u001b[1;33m,\u001b[0m \u001b[0mbatch_logs\u001b[0m\u001b[1;33m)\u001b[0m\u001b[1;33m\u001b[0m\u001b[0m\n\u001b[1;32m--> 210\u001b[1;33m                 \u001b[0mouts\u001b[0m \u001b[1;33m=\u001b[0m \u001b[0mf\u001b[0m\u001b[1;33m(\u001b[0m\u001b[1;33m*\u001b[0m\u001b[0mins_batch\u001b[0m\u001b[1;33m)\u001b[0m\u001b[1;33m\u001b[0m\u001b[0m\n\u001b[0m\u001b[0;32m    211\u001b[0m                 \u001b[1;32mif\u001b[0m \u001b[0mtype\u001b[0m\u001b[1;33m(\u001b[0m\u001b[0mouts\u001b[0m\u001b[1;33m)\u001b[0m \u001b[1;33m!=\u001b[0m \u001b[0mlist\u001b[0m\u001b[1;33m:\u001b[0m\u001b[1;33m\u001b[0m\u001b[0m\n\u001b[0;32m    212\u001b[0m                     \u001b[0mouts\u001b[0m \u001b[1;33m=\u001b[0m \u001b[1;33m[\u001b[0m\u001b[0mouts\u001b[0m\u001b[1;33m]\u001b[0m\u001b[1;33m\u001b[0m\u001b[0m\n",
      "\u001b[1;32m/usr/local/lib/python2.7/dist-packages/theano/compile/function_module.pyc\u001b[0m in \u001b[0;36m__call__\u001b[1;34m(self, *args, **kwargs)\u001b[0m\n\u001b[0;32m    605\u001b[0m         \u001b[0mt0_fn\u001b[0m \u001b[1;33m=\u001b[0m \u001b[0mtime\u001b[0m\u001b[1;33m.\u001b[0m\u001b[0mtime\u001b[0m\u001b[1;33m(\u001b[0m\u001b[1;33m)\u001b[0m\u001b[1;33m\u001b[0m\u001b[0m\n\u001b[0;32m    606\u001b[0m         \u001b[1;32mtry\u001b[0m\u001b[1;33m:\u001b[0m\u001b[1;33m\u001b[0m\u001b[0m\n\u001b[1;32m--> 607\u001b[1;33m             \u001b[0moutputs\u001b[0m \u001b[1;33m=\u001b[0m \u001b[0mself\u001b[0m\u001b[1;33m.\u001b[0m\u001b[0mfn\u001b[0m\u001b[1;33m(\u001b[0m\u001b[1;33m)\u001b[0m\u001b[1;33m\u001b[0m\u001b[0m\n\u001b[0m\u001b[0;32m    608\u001b[0m         \u001b[1;32mexcept\u001b[0m \u001b[0mException\u001b[0m\u001b[1;33m:\u001b[0m\u001b[1;33m\u001b[0m\u001b[0m\n\u001b[0;32m    609\u001b[0m             \u001b[1;32mif\u001b[0m \u001b[0mhasattr\u001b[0m\u001b[1;33m(\u001b[0m\u001b[0mself\u001b[0m\u001b[1;33m.\u001b[0m\u001b[0mfn\u001b[0m\u001b[1;33m,\u001b[0m \u001b[1;34m'position_of_error'\u001b[0m\u001b[1;33m)\u001b[0m\u001b[1;33m:\u001b[0m\u001b[1;33m\u001b[0m\u001b[0m\n",
      "\u001b[1;32m/usr/local/lib/python2.7/dist-packages/theano/gof/op.pyc\u001b[0m in \u001b[0;36mrval\u001b[1;34m(p, i, o, n)\u001b[0m\n\u001b[0;32m    758\u001b[0m         \u001b[1;32mif\u001b[0m \u001b[0mctx\u001b[0m \u001b[1;32mis\u001b[0m \u001b[0mgraph\u001b[0m\u001b[1;33m.\u001b[0m\u001b[0mNoContext\u001b[0m\u001b[1;33m:\u001b[0m\u001b[1;33m\u001b[0m\u001b[0m\n\u001b[0;32m    759\u001b[0m             \u001b[1;31m# default arguments are stored in the closure of `rval`\u001b[0m\u001b[1;33m\u001b[0m\u001b[1;33m\u001b[0m\u001b[0m\n\u001b[1;32m--> 760\u001b[1;33m             \u001b[1;32mdef\u001b[0m \u001b[0mrval\u001b[0m\u001b[1;33m(\u001b[0m\u001b[0mp\u001b[0m\u001b[1;33m=\u001b[0m\u001b[0mp\u001b[0m\u001b[1;33m,\u001b[0m \u001b[0mi\u001b[0m\u001b[1;33m=\u001b[0m\u001b[0mnode_input_storage\u001b[0m\u001b[1;33m,\u001b[0m \u001b[0mo\u001b[0m\u001b[1;33m=\u001b[0m\u001b[0mnode_output_storage\u001b[0m\u001b[1;33m,\u001b[0m \u001b[0mn\u001b[0m\u001b[1;33m=\u001b[0m\u001b[0mnode\u001b[0m\u001b[1;33m)\u001b[0m\u001b[1;33m:\u001b[0m\u001b[1;33m\u001b[0m\u001b[0m\n\u001b[0m\u001b[0;32m    761\u001b[0m                 \u001b[0mr\u001b[0m \u001b[1;33m=\u001b[0m \u001b[0mp\u001b[0m\u001b[1;33m(\u001b[0m\u001b[0mn\u001b[0m\u001b[1;33m,\u001b[0m \u001b[1;33m[\u001b[0m\u001b[0mx\u001b[0m\u001b[1;33m[\u001b[0m\u001b[1;36m0\u001b[0m\u001b[1;33m]\u001b[0m \u001b[1;32mfor\u001b[0m \u001b[0mx\u001b[0m \u001b[1;32min\u001b[0m \u001b[0mi\u001b[0m\u001b[1;33m]\u001b[0m\u001b[1;33m,\u001b[0m \u001b[0mo\u001b[0m\u001b[1;33m)\u001b[0m\u001b[1;33m\u001b[0m\u001b[0m\n\u001b[0;32m    762\u001b[0m                 \u001b[1;32mfor\u001b[0m \u001b[0mo\u001b[0m \u001b[1;32min\u001b[0m \u001b[0mnode\u001b[0m\u001b[1;33m.\u001b[0m\u001b[0moutputs\u001b[0m\u001b[1;33m:\u001b[0m\u001b[1;33m\u001b[0m\u001b[0m\n",
      "\u001b[1;31mKeyboardInterrupt\u001b[0m: "
     ]
    }
   ],
   "source": [
    "print score\n",
    "model.fit(train_4, train_y,\n",
    "          batch_size=batch_size, nb_epoch=nb_epoch,\n",
    "          show_accuracy=True, verbose=2,\n",
    "          validation_data=(valid_4, valid_y))\n",
    "score = model.evaluate(test_4, test_y,\n",
    "                       show_accuracy=True, verbose=0)"
   ]
  },
  {
   "cell_type": "code",
   "execution_count": null,
   "metadata": {
    "collapsed": false
   },
   "outputs": [],
   "source": [
    "# ca c'est le résultat qu'on obtient en prenant un classifieur\n",
    "# qui prédit tout le temps 1 (classe majoritaire)\n",
    "print float(np.sum(test[:,-1]==1))/test.shape[0]"
   ]
  }
 ],
 "metadata": {
  "kernelspec": {
   "display_name": "Python 2",
   "language": "python",
   "name": "python2"
  },
  "language_info": {
   "codemirror_mode": {
    "name": "ipython",
    "version": 2
   },
   "file_extension": ".py",
   "mimetype": "text/x-python",
   "name": "python",
   "nbconvert_exporter": "python",
   "pygments_lexer": "ipython2",
   "version": "2.7.6"
  }
 },
 "nbformat": 4,
 "nbformat_minor": 0
}
