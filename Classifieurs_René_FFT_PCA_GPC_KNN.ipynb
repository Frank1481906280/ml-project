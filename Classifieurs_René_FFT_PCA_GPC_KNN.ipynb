{
 "cells": [
  {
   "cell_type": "code",
   "execution_count": 2,
   "metadata": {
    "collapsed": true
   },
   "outputs": [],
   "source": [
    "import numpy as np\n",
    "%matplotlib inline\n",
    "import matplotlib.pyplot as plt\n",
    "from sklearn.neighbors import KNeighborsClassifier\n",
    "from sklearn.decomposition import PCA\n",
    "from sklearn import metrics\n",
    "from sklearn.metrics import confusion_matrix\n",
    "from sklearn.gaussian_process import GaussianProcess"
   ]
  },
  {
   "cell_type": "code",
   "execution_count": 33,
   "metadata": {
    "collapsed": false
   },
   "outputs": [
    {
     "name": "stdout",
     "output_type": "stream",
     "text": [
      "Reading data file\n",
      "(30000, 2050)\n",
      "(10983, 2050)\n"
     ]
    }
   ],
   "source": [
    "#Get train, test datas \n",
    "from tools.data import get_datasets\n",
    "train, test = get_datasets()\n",
    "print train.shape\n",
    "print test.shape"
   ]
  },
  {
   "cell_type": "code",
   "execution_count": 34,
   "metadata": {
    "collapsed": false
   },
   "outputs": [],
   "source": [
    "# binary classification: Noise vs Digit\n",
    "# Digit -> 1\n",
    "# Noise -> 0\n",
    "#Reducing train,test sets to use the GPC\n",
    "train = train[:(len(train)/3),:]\n",
    "test = test[:(len(test)/3), :]\n",
    "\n",
    "train[train[:,-1] >= 0,-1] =  0\n",
    "test[test[:,-1] >= 0,-1] =  0\n",
    "\n",
    "train[:,-1] = train[:,-1] + 1\n",
    "test[:,-1] = test[:,-1] + 1\n",
    "\n",
    "train_target = train[:,-1]\n",
    "test_target = test[:,-1]\n",
    "\n",
    "DECISIONBOUNDARY = 0"
   ]
  },
  {
   "cell_type": "code",
   "execution_count": 35,
   "metadata": {
    "collapsed": false
   },
   "outputs": [],
   "source": [
    "#FastFourierTransformation apply to the sets using the 4 sensors\n",
    "\n",
    "train_f = np.zeros(train.shape)\n",
    "\n",
    "for i in range(len(train_f)):\n",
    "    length = train[i,0]\n",
    "    train_f[i,0] = train[i,0]\n",
    "    train_f[i,-1] = train[i,-1]\n",
    "    \n",
    "    for j in range(4):\n",
    "        train_f[i, 1+512*j:1+512*j+length] = np.abs(np.fft.fft(train[i, 1+512*j:1+512*j+length]))\n",
    "        \n",
    "test_f = np.zeros(test.shape)\n",
    "\n",
    "for i in range(len(test_f)):\n",
    "    length = test[i,0]\n",
    "    test_f[i,0] = test[i,0]\n",
    "    test_f[i,-1] = test[i,-1]\n",
    "    \n",
    "    for j in range(4):\n",
    "        test_f[i, 1+512*j:1+512*j+length] = np.abs(np.fft.fft(test[i, 1+512*j:1+512*j+length]))"
   ]
  },
  {
   "cell_type": "code",
   "execution_count": 36,
   "metadata": {
    "collapsed": false
   },
   "outputs": [],
   "source": [
    "#PCA with 25 components\n",
    "pca = PCA(n_components = 25)\n",
    "train_principal = pca.fit_transform(train_f)\n",
    "test_principal = pca.transform(test_f)"
   ]
  },
  {
   "cell_type": "code",
   "execution_count": null,
   "metadata": {
    "collapsed": false,
    "scrolled": true
   },
   "outputs": [],
   "source": [
    "#Fit a gaussian process model to the data\n",
    "#gp = GaussianProcess(theta0=10000e-1, random_start=1000)\n",
    "#gp.fit(train_principal, train_target)\n",
    "#Generate a set of predictions for the test data\n",
    "#y_pred = gp.predict(test_principal)\n",
    "#Convert the continuous predictions into the classes\n",
    "#by splitting on a decision boundary of 0\n",
    "#predictions = []\n",
    "#for y in y_pred:\n",
    "    #if y > DECISIONBOUNDARY:\n",
    "            #predictions.append(1)\n",
    "    #else:\n",
    "            #predictions.append(0)\n",
    "#print \"----------------\"\n",
    "#print \"Classification Report:\"\n",
    "#print metrics.classification_report(test_target, predictions)\n",
    "#Produce results around 75% "
   ]
  },
  {
   "cell_type": "code",
   "execution_count": 1,
   "metadata": {
    "collapsed": false
   },
   "outputs": [],
   "source": [
    "#erreur = []\n",
    "#total_correct = 0\n",
    "#for i in range(test_principal.shape[0]):\n",
    "#    if np.array(predictions)[i] == test_target[i]:\n",
    "#        total_correct += 1\n",
    "\n",
    "#erreur.append(float(total_correct) / test_principal.shape[0] * 100)\n",
    "#print 'Pourcentage correct %f:' % float(total_correct) / test_principal.shape[0] * 100\n",
    "#print \"Pourcentage correct: %d\" %np.max(erreur)"
   ]
  },
  {
   "cell_type": "code",
   "execution_count": 15,
   "metadata": {
    "collapsed": false
   },
   "outputs": [
    {
     "name": "stdout",
     "output_type": "stream",
     "text": [
      "Pourcentage correct 1: 98.8709824274\n",
      "Pourcentage correct 2: 98.8800874078\n",
      "Pourcentage correct 3: 98.798142584\n",
      "Pourcentage correct 4: 98.8436674861\n",
      "Pourcentage correct 5: 98.7799326231\n",
      "Pourcentage correct 6: 98.7617226623\n",
      "Pourcentage correct 7: 98.7435127014\n",
      "Pourcentage correct 8: 98.6797778385\n",
      "Pourcentage correct 9: 98.5887280342\n",
      "Pourcentage correct 10: 98.5796230538\n",
      "Pourcentage correct 11: 98.5249931713\n",
      "Pourcentage correct 12: 98.5978330147\n",
      "Pourcentage correct 13: 98.4703632887\n",
      "Pourcentage correct 14: 98.5067832104\n",
      "Pourcentage correct 15: 98.4430483474\n",
      "Pourcentage correct 16: 98.49767823\n",
      "Pourcentage correct 17: 98.3884184649\n",
      "Pourcentage correct 18: 98.3884184649\n",
      "Pourcentage correct 19: 98.3246836019\n"
     ]
    }
   ],
   "source": [
    "#K-PPV algorithm for several values of K\n",
    "erreur = []\n",
    "x = np.arange(1,20,1)\n",
    "for n in (x):\n",
    "    # train set\n",
    "    neigh = KNeighborsClassifier(n_neighbors=n)\n",
    "    neigh.fit(train_principal, train[:,-1])\n",
    "\n",
    "    #test set\n",
    "    total_correct = 0\n",
    "    for i in range(test_principal.shape[0]):\n",
    "        if neigh.predict(test_principal[i])[0] == test[i,-1]:\n",
    "            total_correct += 1\n",
    "\n",
    "    erreur.append(float(total_correct) / test_principal.shape[0] * 100)\n",
    "    print 'Pourcentage correct %d:' % n, float(total_correct) / test_principal.shape[0] * 100\n",
    "    \n"
   ]
  },
  {
   "cell_type": "code",
   "execution_count": 16,
   "metadata": {
    "collapsed": false
   },
   "outputs": [
    {
     "name": "stdout",
     "output_type": "stream",
     "text": [
      "le meilleur pourcentage : 98.880 \n",
      "avec k voisins = 2\n"
     ]
    }
   ],
   "source": [
    "print \"le meilleur pourcentage : %.3f \"% np.max(erreur)\n",
    "print \"avec k voisins = %d\" % x[np.argmax(erreur)]"
   ]
  },
  {
   "cell_type": "code",
   "execution_count": null,
   "metadata": {
    "collapsed": true
   },
   "outputs": [],
   "source": []
  }
 ],
 "metadata": {
  "kernelspec": {
   "display_name": "Python 2",
   "language": "python",
   "name": "python2"
  },
  "language_info": {
   "codemirror_mode": {
    "name": "ipython",
    "version": 2
   },
   "file_extension": ".py",
   "mimetype": "text/x-python",
   "name": "python",
   "nbconvert_exporter": "python",
   "pygments_lexer": "ipython2",
   "version": "2.7.10"
  }
 },
 "nbformat": 4,
 "nbformat_minor": 0
}
