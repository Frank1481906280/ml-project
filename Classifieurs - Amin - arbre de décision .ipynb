{
 "cells": [
  {
   "cell_type": "markdown",
   "metadata": {},
   "source": [
    "# Arbre de décision\n",
    "## multiclass "
   ]
  },
  {
   "cell_type": "code",
   "execution_count": 96,
   "metadata": {
    "collapsed": false
   },
   "outputs": [
    {
     "name": "stdout",
     "output_type": "stream",
     "text": [
      "Reading data file\n"
     ]
    }
   ],
   "source": [
    "from tools.data import get_datasets\n",
    "train, test = get_datasets()"
   ]
  },
  {
   "cell_type": "code",
   "execution_count": 97,
   "metadata": {
    "collapsed": false
   },
   "outputs": [
    {
     "name": "stdout",
     "output_type": "stream",
     "text": [
      "Done\n"
     ]
    }
   ],
   "source": [
    "# Exclusion des -1 qui sont majoritaires dans les datasets\n",
    "import numpy as np\n",
    "train = train[:5000]\n",
    "train = np.compress(train[:,-1] >= 0, train, axis=0)\n",
    "test = np.compress(test[:,-1] >= 0, test, axis=0)\n",
    "\n",
    "d = np.arange(400,len(train[0])-1)\n",
    "train = np.delete(train,d,1)\n",
    "test = np.delete(test,d,1)\n",
    "\n",
    "print 'Done'"
   ]
  },
  {
   "cell_type": "code",
   "execution_count": 98,
   "metadata": {
    "collapsed": false
   },
   "outputs": [
    {
     "name": "stdout",
     "output_type": "stream",
     "text": [
      "(3627L, 401L)\n"
     ]
    }
   ],
   "source": [
    "print train.shape"
   ]
  },
  {
   "cell_type": "code",
   "execution_count": 99,
   "metadata": {
    "collapsed": true
   },
   "outputs": [],
   "source": [
    "from sklearn.tree import DecisionTreeClassifier\n",
    "clf = DecisionTreeClassifier(random_state=0)"
   ]
  },
  {
   "cell_type": "code",
   "execution_count": 100,
   "metadata": {
    "collapsed": false
   },
   "outputs": [
    {
     "name": "stdout",
     "output_type": "stream",
     "text": [
      "in 3.79 seconds\n"
     ]
    }
   ],
   "source": [
    "import timeit\n",
    "start_time = timeit.default_timer()\n",
    "clf.fit(train[:,1:-1],train[:,-1])\n",
    "end_time = timeit.default_timer()\n",
    "print(\"in %s seconds\" % round(end_time - start_time,2))"
   ]
  },
  {
   "cell_type": "code",
   "execution_count": 102,
   "metadata": {
    "collapsed": false
   },
   "outputs": [
    {
     "name": "stdout",
     "output_type": "stream",
     "text": [
      "in 0.77 seconds\n",
      "802.0  correct out of  8053.0   ( 9.95902148268 )\n"
     ]
    }
   ],
   "source": [
    "total = 0.0\n",
    "crct = 0.0\n",
    "start_time = timeit.default_timer()\n",
    "for i in range(len(test)):\n",
    "    total += 1\n",
    "    if clf.predict(test[i,1:-1]) == test[i,-1]:\n",
    "        crct += 1\n",
    "end_time = timeit.default_timer()\n",
    "print(\"in %s seconds\" % round(end_time - start_time,2))\n",
    "print crct, ' correct out of ',total,'  (',100*crct/total,')'"
   ]
  },
  {
   "cell_type": "markdown",
   "metadata": {},
   "source": [
    "##Binaire"
   ]
  },
  {
   "cell_type": "code",
   "execution_count": 93,
   "metadata": {
    "collapsed": false
   },
   "outputs": [
    {
     "name": "stdout",
     "output_type": "stream",
     "text": [
      "Reading data file\n",
      "Done\n",
      "train in 5.35 seconds\n"
     ]
    }
   ],
   "source": [
    "from tools.data import get_datasets\n",
    "from sklearn.tree import DecisionTreeClassifier\n",
    "import timeit\n",
    "\n",
    "train, test = get_datasets()\n",
    "# Exclusion des -1 qui sont majoritaires dans les datasets\n",
    "import numpy as np\n",
    "\n",
    "\n",
    "d = np.arange(400,len(train[0])-1)\n",
    "train = np.delete(train,d,1)\n",
    "test = np.delete(test,d,1)\n",
    "\n",
    "\n",
    "\n",
    "train[train[:,-1] >=0, -1] = 1\n",
    "train[train[:,-1] ==-1, -1] = 0\n",
    "test[test[:,-1] >=0, -1] = 1\n",
    "test[test[:,-1] ==-1, -1] = 0\n",
    "train = train[:5000]\n",
    "#train = np.compress(train[:,-1] >= 0, train, axis=0)\n",
    "#test = np.compress(test[:,-1] >= 0, test, axis=0)\n",
    "print 'Done'\n",
    "clf = DecisionTreeClassifier(random_state=0)\n",
    "\n",
    "start_time = timeit.default_timer()\n",
    "clf.fit(train[:,1:-1],train[:,-1])\n",
    "end_time = timeit.default_timer()\n",
    "print(\"train in %s seconds\" % round(end_time - start_time,2))"
   ]
  },
  {
   "cell_type": "code",
   "execution_count": 103,
   "metadata": {
    "collapsed": false
   },
   "outputs": [
    {
     "name": "stdout",
     "output_type": "stream",
     "text": [
      "test in 0.73 seconds\n",
      "802.0  correct out of  8053.0   ( 9.95902148268 )\n"
     ]
    }
   ],
   "source": [
    "total = 0.0\n",
    "crct = 0.0\n",
    "start_time = timeit.default_timer()\n",
    "for i in range(len(test)):\n",
    "    total += 1\n",
    "    if clf.predict(test[i,1:-1]) == test[i,-1]:\n",
    "        crct += 1\n",
    "end_time = timeit.default_timer()\n",
    "print(\"test in %s seconds\" % round(end_time - start_time,2))\n",
    "print crct, ' correct out of ',total,'  (',100*crct/total,')'"
   ]
  }
 ],
 "metadata": {
  "kernelspec": {
   "display_name": "Python 2",
   "language": "python",
   "name": "python2"
  },
  "language_info": {
   "codemirror_mode": {
    "name": "ipython",
    "version": 2
   },
   "file_extension": ".py",
   "mimetype": "text/x-python",
   "name": "python",
   "nbconvert_exporter": "python",
   "pygments_lexer": "ipython2",
   "version": "2.7.10"
  }
 },
 "nbformat": 4,
 "nbformat_minor": 0
}
