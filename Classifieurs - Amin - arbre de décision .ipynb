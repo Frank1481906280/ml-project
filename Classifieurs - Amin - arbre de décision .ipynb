{
 "cells": [
  {
   "cell_type": "markdown",
   "metadata": {},
   "source": [
    "# Arbre de décision\n",
    "## multiclass "
   ]
  },
  {
   "cell_type": "code",
   "execution_count": 3,
   "metadata": {
    "collapsed": false
   },
   "outputs": [
    {
     "name": "stdout",
     "output_type": "stream",
     "text": [
      "Reading data file\n"
     ]
    }
   ],
   "source": [
    "from tools.data import get_datasets\n",
    "train, test = get_datasets()"
   ]
  },
  {
   "cell_type": "code",
   "execution_count": 4,
   "metadata": {
    "collapsed": false
   },
   "outputs": [
    {
     "name": "stdout",
     "output_type": "stream",
     "text": [
      "Done\n"
     ]
    }
   ],
   "source": [
    "# Exclusion des -1 qui sont majoritaires dans les datasets\n",
    "import numpy as np\n",
    "train = train[:5000]\n",
    "train = np.compress(train[:,-1] >= 0, train, axis=0)\n",
    "test = np.compress(test[:,-1] >= 0, test, axis=0)\n",
    "print 'Done'"
   ]
  },
  {
   "cell_type": "code",
   "execution_count": 5,
   "metadata": {
    "collapsed": true
   },
   "outputs": [],
   "source": [
    "from sklearn.tree import DecisionTreeClassifier\n",
    "clf = DecisionTreeClassifier(random_state=0)"
   ]
  },
  {
   "cell_type": "code",
   "execution_count": 6,
   "metadata": {
    "collapsed": false
   },
   "outputs": [
    {
     "name": "stdout",
     "output_type": "stream",
     "text": [
      "in 56.23 seconds\n"
     ]
    }
   ],
   "source": [
    "import timeit\n",
    "start_time = timeit.default_timer()\n",
    "clf.fit(train[:,:-1],train[:,-1])\n",
    "end_time = timeit.default_timer()\n",
    "print(\"in %s seconds\" % round(end_time - start_time,2))"
   ]
  },
  {
   "cell_type": "code",
   "execution_count": 13,
   "metadata": {
    "collapsed": false
   },
   "outputs": [
    {
     "name": "stdout",
     "output_type": "stream",
     "text": [
      "[ 5.] 7.0\n"
     ]
    }
   ],
   "source": [
    "print clf.predict(test[0,:-1]), test[0,-1]"
   ]
  },
  {
   "cell_type": "code",
   "execution_count": null,
   "metadata": {
    "collapsed": false
   },
   "outputs": [],
   "source": [
    "total = 0.0\n",
    "crct = 0.0\n",
    "start_time = timeit.default_timer()\n",
    "for i in range(len(test)):\n",
    "    total += 1\n",
    "    if clf.predict(test[i,:-1]) == test[i,-1]:\n",
    "        print clf.predict(test[i,:-1]),'\\t',test[i,-1]\n",
    "        crct += 1\n",
    "end_time = timeit.default_timer()\n",
    "print(\"in %s seconds\" % round(end_time - start_time,2))\n",
    "print crct, ' correct out of ',total,'  (',100*crct/total,')'"
   ]
  },
  {
   "cell_type": "code",
   "execution_count": 10,
   "metadata": {
    "collapsed": false
   },
   "outputs": [
    {
     "name": "stdout",
     "output_type": "stream",
     "text": [
      "in 1.55 seconds\n",
      "825.0  correct out of  8053.0   ( 10.2446293307 )\n"
     ]
    }
   ],
   "source": [
    "total = 0.0\n",
    "crct = 0.0\n",
    "start_time = timeit.default_timer()\n",
    "for i in range(len(test)):\n",
    "    total += 1\n",
    "    if clf.predict(test[i,:-1])[0] == test[i,-1]:\n",
    "        crct += 1\n",
    "end_time = timeit.default_timer()\n",
    "print(\"in %s seconds\" % round(end_time - start_time,2))\n",
    "print crct, ' correct out of ',total,'  (',100*crct/total,')'"
   ]
  },
  {
   "cell_type": "markdown",
   "metadata": {},
   "source": [
    "##Binaire"
   ]
  },
  {
   "cell_type": "code",
   "execution_count": null,
   "metadata": {
    "collapsed": false
   },
   "outputs": [
    {
     "name": "stdout",
     "output_type": "stream",
     "text": [
      "Reading data file\n",
      "Done\n",
      "train in 2.36 seconds"
     ]
    }
   ],
   "source": [
    "from tools.data import get_datasets\n",
    "from sklearn.tree import DecisionTreeClassifier\n",
    "import timeit\n",
    "\n",
    "train, test = get_datasets()\n",
    "# Exclusion des -1 qui sont majoritaires dans les datasets\n",
    "import numpy as np\n",
    "train[train[:,-1] >=0, -1] = 1\n",
    "train[train[:,-1] ==-1, -1] = 0\n",
    "test[test[:,-1] >=0, -1] = 1\n",
    "test[test[:,-1] ==-1, -1] = 0\n",
    "train = train[:5000]\n",
    "train = np.compress(train[:,-1] >= 0, train, axis=0)\n",
    "test = np.compress(test[:,-1] >= 0, test, axis=0)\n",
    "print 'Done'\n",
    "clf = DecisionTreeClassifier(random_state=0)\n",
    "\n",
    "start_time = timeit.default_timer()\n",
    "clf.fit(train[:,:-1],train[:,-1])\n",
    "end_time = timeit.default_timer()\n",
    "print(\"train in %s seconds\" % round(end_time - start_time,2))\n",
    "print \n",
    "total = 0.0\n",
    "crct = 0.0\n",
    "start_time = timeit.default_timer()\n",
    "for i in range(len(test)):\n",
    "    total += 1\n",
    "    if (clf.predict(test[i,:-1]) == [test[i:-1]]).any():\n",
    "        crct += 1\n",
    "end_time = timeit.default_timer()\n",
    "print(\"test in %s seconds\" % round(end_time - start_time,2))\n",
    "print crct, ' correct out of ',total,'  (',100*crct/total,')'"
   ]
  }
 ],
 "metadata": {
  "kernelspec": {
   "display_name": "Python 2",
   "language": "python",
   "name": "python2"
  },
  "language_info": {
   "codemirror_mode": {
    "name": "ipython",
    "version": 2
   },
   "file_extension": ".py",
   "mimetype": "text/x-python",
   "name": "python",
   "nbconvert_exporter": "python",
   "pygments_lexer": "ipython2",
   "version": "2.7.10"
  }
 },
 "nbformat": 4,
 "nbformat_minor": 0
}
